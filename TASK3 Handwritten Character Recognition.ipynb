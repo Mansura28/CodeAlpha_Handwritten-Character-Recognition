{
 "cells": [
  {
   "cell_type": "markdown",
   "id": "b5f8ce4c",
   "metadata": {},
   "source": [
    "# Import libraries"
   ]
  },
  {
   "cell_type": "code",
   "execution_count": 1,
   "id": "a0cb2ee7",
   "metadata": {},
   "outputs": [],
   "source": [
    "import os\n",
    "import numpy as np\n",
    "import matplotlib.pyplot as plt\n",
    "from keras.preprocessing import image\n",
    "from keras.models import Sequential\n",
    "from keras.layers import Conv2D, MaxPooling2D, Flatten, Dense, Dropout\n",
    "from keras.preprocessing.image import ImageDataGenerator\n",
    "from tensorflow.keras.utils import load_img\n",
    "from tensorflow.keras.preprocessing.image import img_to_array\n",
    "from tensorflow.keras.utils import load_img\n",
    "import PIL\n",
    "from PIL import ImageFile\n",
    "from PIL import ImageTk, ImageDraw, Image\n",
    "from tkinter import *"
   ]
  },
  {
   "cell_type": "markdown",
   "id": "9045bfff",
   "metadata": {},
   "source": [
    "# Load & prepare the dataset"
   ]
  },
  {
   "cell_type": "code",
   "execution_count": 2,
   "id": "5922bce2",
   "metadata": {},
   "outputs": [
    {
     "name": "stdout",
     "output_type": "stream",
     "text": [
      "Found 12000 images belonging to 50 classes.\n",
      "Found 3000 images belonging to 50 classes.\n"
     ]
    }
   ],
   "source": [
    "ImageFile.LOAD_TRUNCATED_IMAGES = True\n",
    "\n",
    "train_datagen = ImageDataGenerator(rescale = 1./255, shear_range = .2, rotation_range = 25)\n",
    "test_datagen = ImageDataGenerator(rescale = 1./255)\n",
    "\n",
    "training_set = train_datagen.flow_from_directory('D:/HBCR/Dataset/Train', target_size = (40, 40), \n",
    "                                                 batch_size = 32, class_mode = 'categorical')\n",
    "test_set = test_datagen.flow_from_directory('D:/HBCR/Dataset/Test', target_size = (40, 40), \n",
    "                                                 batch_size = 32, class_mode = 'categorical')"
   ]
  },
  {
   "cell_type": "markdown",
   "id": "228615d9",
   "metadata": {},
   "source": [
    "# CNN model"
   ]
  },
  {
   "cell_type": "code",
   "execution_count": 3,
   "id": "57fcc57f",
   "metadata": {},
   "outputs": [],
   "source": [
    "classifier = Sequential()\n",
    "\n",
    "classifier.add(Conv2D(filters = 128, kernel_size = (3, 3), activation = 'relu', input_shape = (40, 40, 3)))\n",
    "classifier.add(MaxPooling2D(pool_size = (2, 2)))\n",
    "classifier.add(Dropout(.2))\n",
    "\n",
    "classifier.add(Conv2D(filters = 64, kernel_size = (3, 3), activation = 'relu'))\n",
    "classifier.add(MaxPooling2D(pool_size = (2, 2)))\n",
    "classifier.add(Dropout(.2))\n",
    "\n",
    "classifier.add(Flatten())\n",
    "\n",
    "classifier.add(Dense(units = 128, activation = 'relu'))\n",
    "classifier.add(Dropout(.2))\n",
    "\n",
    "classifier.add(Dense(units = 50, activation = 'softmax'))\n",
    "\n",
    "classifier.compile(optimizer = 'adam', loss = 'categorical_crossentropy', metrics = ['accuracy'])"
   ]
  },
  {
   "cell_type": "markdown",
   "id": "29090006",
   "metadata": {},
   "source": [
    "# Fitting the model to the dataset"
   ]
  },
  {
   "cell_type": "code",
   "execution_count": 4,
   "id": "0af48a1e",
   "metadata": {},
   "outputs": [
    {
     "name": "stderr",
     "output_type": "stream",
     "text": [
      "C:\\Users\\HP\\AppData\\Local\\Temp\\ipykernel_4244\\216466035.py:1: UserWarning: `Model.fit_generator` is deprecated and will be removed in a future version. Please use `Model.fit`, which supports generators.\n",
      "  classifier.fit_generator(training_set, steps_per_epoch = 200, epochs = 50,\n"
     ]
    },
    {
     "name": "stdout",
     "output_type": "stream",
     "text": [
      "Epoch 1/50\n",
      "200/200 [==============================] - ETA: 0s - loss: 3.3442 - accuracy: 0.1483WARNING:tensorflow:Your input ran out of data; interrupting training. Make sure that your dataset or generator can generate at least `steps_per_epoch * epochs` batches (in this case, 3000 batches). You may need to use the repeat() function when building your dataset.\n",
      "200/200 [==============================] - 121s 592ms/step - loss: 3.3442 - accuracy: 0.1483 - val_loss: 1.8436 - val_accuracy: 0.5057\n",
      "Epoch 2/50\n",
      "200/200 [==============================] - 73s 366ms/step - loss: 1.8879 - accuracy: 0.4716\n",
      "Epoch 3/50\n",
      "200/200 [==============================] - 73s 363ms/step - loss: 1.4540 - accuracy: 0.5827\n",
      "Epoch 4/50\n",
      "200/200 [==============================] - 71s 355ms/step - loss: 1.2643 - accuracy: 0.6348\n",
      "Epoch 5/50\n",
      "200/200 [==============================] - 73s 362ms/step - loss: 1.1365 - accuracy: 0.6614\n",
      "Epoch 6/50\n",
      "200/200 [==============================] - 71s 352ms/step - loss: 1.0554 - accuracy: 0.6895\n",
      "Epoch 7/50\n",
      "200/200 [==============================] - 71s 353ms/step - loss: 0.9889 - accuracy: 0.7036\n",
      "Epoch 8/50\n",
      "200/200 [==============================] - 71s 355ms/step - loss: 0.9115 - accuracy: 0.7233\n",
      "Epoch 9/50\n",
      "200/200 [==============================] - 70s 352ms/step - loss: 0.8525 - accuracy: 0.7411\n",
      "Epoch 10/50\n",
      "200/200 [==============================] - 59s 297ms/step - loss: 0.8385 - accuracy: 0.7420\n",
      "Epoch 11/50\n",
      "200/200 [==============================] - 51s 257ms/step - loss: 0.8079 - accuracy: 0.7584\n",
      "Epoch 12/50\n",
      "200/200 [==============================] - 53s 263ms/step - loss: 0.7671 - accuracy: 0.7647\n",
      "Epoch 13/50\n",
      "200/200 [==============================] - 53s 264ms/step - loss: 0.7359 - accuracy: 0.7780\n",
      "Epoch 14/50\n",
      "200/200 [==============================] - 53s 266ms/step - loss: 0.7160 - accuracy: 0.7736\n",
      "Epoch 15/50\n",
      "200/200 [==============================] - 53s 264ms/step - loss: 0.7101 - accuracy: 0.7844\n",
      "Epoch 16/50\n",
      "200/200 [==============================] - 60s 299ms/step - loss: 0.6824 - accuracy: 0.7902\n",
      "Epoch 17/50\n",
      "200/200 [==============================] - 61s 304ms/step - loss: 0.6526 - accuracy: 0.7986\n",
      "Epoch 18/50\n",
      "200/200 [==============================] - 58s 290ms/step - loss: 0.6498 - accuracy: 0.8017\n",
      "Epoch 19/50\n",
      "200/200 [==============================] - 62s 310ms/step - loss: 0.6203 - accuracy: 0.8011\n",
      "Epoch 20/50\n",
      "200/200 [==============================] - 61s 304ms/step - loss: 0.6259 - accuracy: 0.8091\n",
      "Epoch 21/50\n",
      "200/200 [==============================] - 57s 286ms/step - loss: 0.6175 - accuracy: 0.8094\n",
      "Epoch 22/50\n",
      "200/200 [==============================] - 57s 287ms/step - loss: 0.5954 - accuracy: 0.8089\n",
      "Epoch 23/50\n",
      "200/200 [==============================] - 64s 321ms/step - loss: 0.5747 - accuracy: 0.8166\n",
      "Epoch 24/50\n",
      "200/200 [==============================] - 67s 335ms/step - loss: 0.5493 - accuracy: 0.8302\n",
      "Epoch 25/50\n",
      "200/200 [==============================] - 72s 358ms/step - loss: 0.5518 - accuracy: 0.8302\n",
      "Epoch 26/50\n",
      "200/200 [==============================] - 71s 357ms/step - loss: 0.5598 - accuracy: 0.8286\n",
      "Epoch 27/50\n",
      "200/200 [==============================] - 67s 335ms/step - loss: 0.5284 - accuracy: 0.8366\n",
      "Epoch 28/50\n",
      "200/200 [==============================] - 60s 297ms/step - loss: 0.5197 - accuracy: 0.8333\n",
      "Epoch 29/50\n",
      "200/200 [==============================] - 58s 292ms/step - loss: 0.5226 - accuracy: 0.8334\n",
      "Epoch 30/50\n",
      "200/200 [==============================] - 58s 289ms/step - loss: 0.5121 - accuracy: 0.8419\n",
      "Epoch 31/50\n",
      "200/200 [==============================] - 65s 324ms/step - loss: 0.5302 - accuracy: 0.8347\n",
      "Epoch 32/50\n",
      "200/200 [==============================] - 55s 276ms/step - loss: 0.4773 - accuracy: 0.8523\n",
      "Epoch 33/50\n",
      "200/200 [==============================] - 55s 275ms/step - loss: 0.4990 - accuracy: 0.8352\n",
      "Epoch 34/50\n",
      "200/200 [==============================] - 57s 284ms/step - loss: 0.4659 - accuracy: 0.8534\n",
      "Epoch 35/50\n",
      "200/200 [==============================] - 57s 282ms/step - loss: 0.4864 - accuracy: 0.8472\n",
      "Epoch 36/50\n",
      "200/200 [==============================] - 55s 275ms/step - loss: 0.4643 - accuracy: 0.8520\n",
      "Epoch 37/50\n",
      "200/200 [==============================] - 57s 286ms/step - loss: 0.4628 - accuracy: 0.8495\n",
      "Epoch 38/50\n",
      "200/200 [==============================] - 55s 275ms/step - loss: 0.4431 - accuracy: 0.8587\n",
      "Epoch 39/50\n",
      "200/200 [==============================] - 61s 306ms/step - loss: 0.4310 - accuracy: 0.8639\n",
      "Epoch 40/50\n",
      "200/200 [==============================] - 60s 298ms/step - loss: 0.4349 - accuracy: 0.8602\n",
      "Epoch 41/50\n",
      "200/200 [==============================] - 63s 313ms/step - loss: 0.4245 - accuracy: 0.8677\n",
      "Epoch 42/50\n",
      "200/200 [==============================] - 62s 308ms/step - loss: 0.4157 - accuracy: 0.8645\n",
      "Epoch 43/50\n",
      "200/200 [==============================] - 65s 323ms/step - loss: 0.4049 - accuracy: 0.8645\n",
      "Epoch 44/50\n",
      "200/200 [==============================] - 53s 264ms/step - loss: 0.4288 - accuracy: 0.8564\n",
      "Epoch 45/50\n",
      "200/200 [==============================] - 60s 300ms/step - loss: 0.4142 - accuracy: 0.8705\n",
      "Epoch 46/50\n",
      "200/200 [==============================] - 60s 300ms/step - loss: 0.4189 - accuracy: 0.8652\n",
      "Epoch 47/50\n",
      "200/200 [==============================] - 71s 355ms/step - loss: 0.3941 - accuracy: 0.8666\n",
      "Epoch 48/50\n",
      "200/200 [==============================] - 74s 369ms/step - loss: 0.3860 - accuracy: 0.8702\n",
      "Epoch 49/50\n",
      "200/200 [==============================] - 62s 309ms/step - loss: 0.3567 - accuracy: 0.8842\n",
      "Epoch 50/50\n",
      "200/200 [==============================] - 59s 294ms/step - loss: 0.3789 - accuracy: 0.8778\n"
     ]
    },
    {
     "data": {
      "text/plain": [
       "<keras.callbacks.History at 0x1b29fac8520>"
      ]
     },
     "execution_count": 4,
     "metadata": {},
     "output_type": "execute_result"
    }
   ],
   "source": [
    "classifier.fit_generator(training_set, steps_per_epoch = 200, epochs = 50,\n",
    "                        validation_data = test_set, validation_steps = 3000)"
   ]
  },
  {
   "cell_type": "code",
   "execution_count": 5,
   "id": "b93c466e",
   "metadata": {},
   "outputs": [
    {
     "name": "stdout",
     "output_type": "stream",
     "text": [
      "Model: \"sequential\"\n",
      "_________________________________________________________________\n",
      " Layer (type)                Output Shape              Param #   \n",
      "=================================================================\n",
      " conv2d (Conv2D)             (None, 38, 38, 128)       3584      \n",
      "                                                                 \n",
      " max_pooling2d (MaxPooling2D  (None, 19, 19, 128)      0         \n",
      " )                                                               \n",
      "                                                                 \n",
      " dropout (Dropout)           (None, 19, 19, 128)       0         \n",
      "                                                                 \n",
      " conv2d_1 (Conv2D)           (None, 17, 17, 64)        73792     \n",
      "                                                                 \n",
      " max_pooling2d_1 (MaxPooling  (None, 8, 8, 64)         0         \n",
      " 2D)                                                             \n",
      "                                                                 \n",
      " dropout_1 (Dropout)         (None, 8, 8, 64)          0         \n",
      "                                                                 \n",
      " flatten (Flatten)           (None, 4096)              0         \n",
      "                                                                 \n",
      " dense (Dense)               (None, 128)               524416    \n",
      "                                                                 \n",
      " dropout_2 (Dropout)         (None, 128)               0         \n",
      "                                                                 \n",
      " dense_1 (Dense)             (None, 50)                6450      \n",
      "                                                                 \n",
      "=================================================================\n",
      "Total params: 608,242\n",
      "Trainable params: 608,242\n",
      "Non-trainable params: 0\n",
      "_________________________________________________________________\n"
     ]
    }
   ],
   "source": [
    "classifier.summary()"
   ]
  },
  {
   "cell_type": "markdown",
   "id": "5adbd6ec",
   "metadata": {},
   "source": [
    "# Save the model"
   ]
  },
  {
   "cell_type": "code",
   "execution_count": 6,
   "id": "511142d0",
   "metadata": {},
   "outputs": [],
   "source": [
    "classifier_json = classifier.to_json()\n",
    "\n",
    "with open(\"CNN_BanglaHandWrittenCharacterRecognition.json\", \"w\") as json_file:\n",
    "    json_file.write(classifier_json)\n",
    "    \n",
    "classifier.save_weights(\"CNN_BanglaHandWrittenCharacterRecognition.h5\")"
   ]
  },
  {
   "cell_type": "markdown",
   "id": "09c3d843",
   "metadata": {},
   "source": [
    "# User interface"
   ]
  },
  {
   "cell_type": "code",
   "execution_count": 7,
   "id": "c415fd36",
   "metadata": {},
   "outputs": [],
   "source": [
    "def create_new_image():\n",
    "    width = 256\n",
    "    height = 256\n",
    "    center = height // 2\n",
    "    white = (255, 255, 255)\n",
    "    green = (0, 128, 0)\n",
    "    \n",
    "    def save():\n",
    "        filename = 'D:/HBCR/Dataset/SinglePrediction/image.jpg'\n",
    "        image.save(filename)\n",
    "        \n",
    "    def paint(event):\n",
    "        x1, y1 = (event.x - 1), (event.y - 1)\n",
    "        x2, y2 = (event.x + 1), (event.y + 1)\n",
    "        cv.create_oval(x1, y1, x2, y2, fill = 'black', width = 30)\n",
    "        draw.line([x1, y1, x2, y2], fill = 'black', width = 30)\n",
    "        \n",
    "    root = Tk()\n",
    "    \n",
    "    cv = Canvas(root, width = width, height = height, bg = 'white')\n",
    "    cv.pack()\n",
    "    \n",
    "    image = PIL.Image.new('RGB', (width, height), white)\n",
    "    draw = ImageDraw.Draw(image)\n",
    "    \n",
    "    cv.pack(expand = YES, fill = BOTH)\n",
    "    cv.bind(\"<B1-Motion>\", paint)\n",
    "    \n",
    "    button = Button(text = 'Save', command = save)\n",
    "    button.pack()\n",
    "    \n",
    "    root.mainloop()"
   ]
  },
  {
   "cell_type": "markdown",
   "id": "6b1fd37b",
   "metadata": {},
   "source": [
    "# Prediction "
   ]
  },
  {
   "cell_type": "code",
   "execution_count": 8,
   "id": "98b57717",
   "metadata": {},
   "outputs": [],
   "source": [
    "def determine_character(res):\n",
    "    if res == 0:\n",
    "        print('prediction : অ')\n",
    "    elif res == 1:\n",
    "        print('prediction : আ')\n",
    "    elif res == 2:\n",
    "        print('prediction : ই')\n",
    "    elif res == 3:\n",
    "        print('prediction : ঈ')\n",
    "    elif res == 4:\n",
    "        print('prediction : উ')\n",
    "    elif res == 5:\n",
    "        print('prediction : ঊ')\n",
    "    elif res == 6:\n",
    "        print('prediction : ঋ')\n",
    "    elif res == 7:\n",
    "        print('prediction : এ')\n",
    "    elif res == 8:\n",
    "        print('prediction : ঐ')\n",
    "    elif res == 9:\n",
    "        print('prediction : ও')\n",
    "    elif res == 10:\n",
    "        print('prediction : ঔ')\n",
    "    elif res == 11:\n",
    "        print('prediction : ক')\n",
    "    elif res == 12:\n",
    "        print('prediction : খ')\n",
    "    elif res == 13:\n",
    "        print('prediction : গ')\n",
    "    elif res == 14:\n",
    "        print('prediction : ঘ')\n",
    "    elif res == 15:\n",
    "        print('prediction : ঙ')\n",
    "    elif res == 16:\n",
    "        print('prediction : চ')\n",
    "    elif res == 17:\n",
    "        print('prediction : ছ')\n",
    "    elif res == 18:\n",
    "        print('prediction : জ')\n",
    "    elif res == 19:\n",
    "        print('prediction : ঝ')\n",
    "    elif res == 20:\n",
    "        print('prediction : ঞ')\n",
    "    elif res == 21:\n",
    "        print('prediction : ট')\n",
    "    elif res == 22:\n",
    "        print('prediction : ঠ')\n",
    "    elif res == 23:\n",
    "        print('prediction : ড')\n",
    "    elif res == 24:\n",
    "        print('prediction : ঢ')\n",
    "    elif res == 25:\n",
    "        print('prediction : ণ')\n",
    "    elif res == 26:\n",
    "        print('prediction : ত')\n",
    "    elif res == 27:\n",
    "        print('prediction : থ')\n",
    "    elif res == 28:\n",
    "        print('prediction : দ')\n",
    "    elif res == 29:\n",
    "        print('prediction : ধ')\n",
    "    elif res == 30:\n",
    "        print('prediction : ন')\n",
    "    elif res == 31:\n",
    "        print('prediction : প')\n",
    "    elif res == 32:\n",
    "        print('prediction : ফ')\n",
    "    elif res == 33:\n",
    "        print('prediction : ব')\n",
    "    elif res == 34:\n",
    "        print('prediction : ভ')\n",
    "    elif res == 35:\n",
    "        print('prediction : ম')\n",
    "    elif res == 36:\n",
    "        print('prediction : য')\n",
    "    elif res == 37:\n",
    "        print('prediction : র')\n",
    "    elif res == 38:\n",
    "        print('prediction : ল')\n",
    "    elif res == 39:\n",
    "        print('prediction : শ')\n",
    "    elif res == 40:\n",
    "        print('prediction : ষ')\n",
    "    elif res == 41:\n",
    "        print('prediction : স')\n",
    "    elif res == 42:\n",
    "        print('prediction : হ')\n",
    "    elif res == 43:\n",
    "        print('prediction : ড়')\n",
    "    elif res == 44:\n",
    "        print('prediction : ঢ়')\n",
    "    elif res == 45:\n",
    "        print('prediction : য়')\n",
    "    elif res == 46:\n",
    "        print('prediction : ৎ')\n",
    "    elif res == 47:\n",
    "        print('prediction : ং')\n",
    "    elif res == 48:\n",
    "        print('prediction : ঃ')\n",
    "    else:\n",
    "        print('prediction : ঁ')"
   ]
  },
  {
   "cell_type": "code",
   "execution_count": 9,
   "id": "bdc7cfbb",
   "metadata": {},
   "outputs": [],
   "source": [
    "def single_prediction(test_img):\n",
    "    test_img_arr = img_to_array(test_img)\n",
    "    test_img_arr = np.expand_dims(test_img_arr, axis = 0)\n",
    "    prediction = classifier.predict(test_img_arr)\n",
    "    result = np.argmax(prediction, axis = 1)\n",
    "    determine_character(result)"
   ]
  },
  {
   "cell_type": "code",
   "execution_count": 10,
   "id": "0792b342",
   "metadata": {},
   "outputs": [],
   "source": [
    "def delete_created_image():\n",
    "    os.remove('D:/HBCR/Dataset/SinglePrediction/image.jpg')"
   ]
  },
  {
   "cell_type": "code",
   "execution_count": 11,
   "id": "bf211878",
   "metadata": {},
   "outputs": [],
   "source": [
    "def draw_n_guess_the_character():\n",
    "    create_new_image()\n",
    "    test_img = load_img('D:/HBCR/Dataset/SinglePrediction/image.jpg', target_size=(40, 40, 3))\n",
    "    single_prediction(test_img)\n",
    "    plt.imshow(test_img)\n",
    "    delete_created_image()"
   ]
  },
  {
   "cell_type": "code",
   "execution_count": 12,
   "id": "ded595fc",
   "metadata": {},
   "outputs": [
    {
     "name": "stdout",
     "output_type": "stream",
     "text": [
      "1/1 [==============================] - 1s 673ms/step\n",
      "prediction : অ\n"
     ]
    },
    {
     "data": {
      "image/png": "[encoded data removed]",
      "text/plain": [
       "<Figure size 640x480 with 1 Axes>"
      ]
     },
     "metadata": {},
     "output_type": "display_data"
    }
   ],
   "source": [
    "draw_n_guess_the_character()"
   ]
  },
  {
   "cell_type": "code",
   "execution_count": null,
   "id": "95b71bc1",
   "metadata": {},
   "outputs": [],
   "source": []
  }
 ],
 "metadata": {
  "kernelspec": {
   "display_name": "Python 3 (ipykernel)",
   "language": "python",
   "name": "python3"
  },
  "language_info": {
   "codemirror_mode": {
    "name": "ipython",
    "version": 3
   },
   "file_extension": ".py",
   "mimetype": "text/x-python",
   "name": "python",
   "nbconvert_exporter": "python",
   "pygments_lexer": "ipython3",
   "version": "3.9.13"
  }
 },
 "nbformat": 4,
 "nbformat_minor": 5
}
